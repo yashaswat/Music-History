{
 "cells": [
  {
   "cell_type": "code",
   "execution_count": 2,
   "metadata": {},
   "outputs": [],
   "source": [
    "import spoti\n",
    "from requests import get, post\n",
    "import json\n",
    "import webbrowser\n",
    "import requests\n",
    "import base64\n",
    "import os\n",
    "import urllib.parse\n",
    "import pandas as pd\n",
    "import time"
   ]
  },
  {
   "cell_type": "code",
   "execution_count": 3,
   "metadata": {},
   "outputs": [],
   "source": [
    "client_id = os.getenv('SPOTIFY_CLIENT_ID')\n",
    "client_secret = os.getenv('SPOTIFY_CLIENT_SECRET')\n",
    "redirect_uri = \"http://localhost:8501/callback\"\n",
    "\n",
    "api_token = spoti.get_token()\n",
    "scope = ''"
   ]
  },
  {
   "cell_type": "code",
   "execution_count": 4,
   "metadata": {},
   "outputs": [],
   "source": [
    "def get_authorization_code():\n",
    "    auth_url = (\n",
    "        \"https://accounts.spotify.com/authorize\"\n",
    "        \"?response_type=code\"\n",
    "        f\"&client_id={client_id}\"\n",
    "        f\"&scope={scope}\"\n",
    "        f\"&redirect_uri={urllib.parse.quote(redirect_uri, safe='')}\"\n",
    "    )\n",
    "\n",
    "    webbrowser.open(auth_url)\n",
    "\n",
    "    return input(\"Paste the full redirect URL here: \")\n",
    "\n",
    "\n",
    "def extract_auth_code(redirect_url):\n",
    "    parsed_url = urllib.parse.urlparse(redirect_url)\n",
    "    auth_code = urllib.parse.parse_qs(parsed_url.query).get(\"code\", [None])[0]\n",
    "    \n",
    "    return auth_code\n",
    "\n",
    "\n",
    "def get_access_token(auth_code):\n",
    "    token_url = \"https://accounts.spotify.com/api/token\"\n",
    "    auth_header = base64.b64encode(f\"{client_id}:{client_secret}\".encode()).decode()\n",
    "\n",
    "    headers = {\n",
    "        \"Authorization\": f\"Basic {auth_header}\",\n",
    "        \"Content-Type\": \"application/x-www-form-urlencoded\"\n",
    "    }\n",
    "    data = {\n",
    "        \"grant_type\": \"authorization_code\",\n",
    "        \"code\": auth_code,\n",
    "        \"redirect_uri\": redirect_uri\n",
    "    }\n",
    "\n",
    "    response = requests.post(token_url, headers=headers, data=data)\n",
    "    response_json = response.json()\n",
    "\n",
    "    return response_json[\"access_token\"]\n"
   ]
  },
  {
   "cell_type": "code",
   "execution_count": 5,
   "metadata": {},
   "outputs": [],
   "source": [
    "def save_to_csv(recent_tracks, filename):\n",
    "      \n",
    "    for track in recent_tracks:\n",
    "        track[\"artist_names\"] = \", \".join([artist[\"artist_name\"] for artist in track[\"artists\"]])\n",
    "        track[\"artist_ids\"] = \", \".join([artist[\"artist_id\"] for artist in track[\"artists\"]])\n",
    "        del track[\"artists\"]\n",
    "    \n",
    "    df = pd.DataFrame(recent_tracks)\n",
    "    df.to_csv(filename, index=False, encoding='utf-8')\n",
    "    \n",
    "    print('Data saved to CSV file')"
   ]
  },
  {
   "cell_type": "markdown",
   "metadata": {},
   "source": [
    "### Make Database of Listening History from Recents"
   ]
  },
  {
   "cell_type": "code",
   "execution_count": 12,
   "metadata": {},
   "outputs": [
    {
     "name": "stdout",
     "output_type": "stream",
     "text": [
      "✅ Access Token\n",
      "Data saved to CSV file\n"
     ]
    }
   ],
   "source": [
    "def recently_played(access_token):\n",
    "    url = \"https://api.spotify.com/v1/me/player/recently-played?limit=50\"\n",
    "    headers = {\"Authorization\": f\"Bearer {access_token}\"}\n",
    "\n",
    "    result = get(url, headers=headers)\n",
    "    json_result = json.loads(result.content)\n",
    "    \n",
    "    track_info = []\n",
    "    \n",
    "    for item in json_result[\"items\"]:\n",
    "        \n",
    "        track = item[\"track\"]\n",
    "        info = {\n",
    "            \"track_name\": track[\"name\"],\n",
    "            \"track_id\": track[\"id\"],\n",
    "            \"album_name\": track[\"album\"][\"name\"],\n",
    "            \"album_id\": track[\"album\"][\"id\"],\n",
    "            \"album_release_date\": track[\"album\"][\"release_date\"],\n",
    "            \"popularity\": track[\"popularity\"],\n",
    "            \"artists\": [\n",
    "                {\"artist_name\": artist[\"name\"], \"artist_id\": artist[\"id\"]}\n",
    "                for artist in track[\"artists\"]\n",
    "            ],\n",
    "        }\n",
    "        \n",
    "        track_info.append(info)\n",
    "    \n",
    "    return track_info\n",
    "\n",
    "\n",
    "scope = \"user-read-recently-played\"\n",
    "\n",
    "redirect_url = get_authorization_code()\n",
    "auth_code = extract_auth_code(redirect_url)\n",
    "access_token = get_access_token(auth_code)\n",
    "print(f\"✅ Access Token\")\n",
    "\n",
    "recent_tracks = recently_played(access_token)\n",
    "save_to_csv(recent_tracks, filename=\"new_recents.csv\")"
   ]
  },
  {
   "cell_type": "code",
   "execution_count": 13,
   "metadata": {},
   "outputs": [],
   "source": [
    "full_recents = pd.read_csv('recent_tracks.csv', encoding='utf-8')\n",
    "new_recents = pd.read_csv('new_recents.csv', encoding='utf-8')\n",
    "\n",
    "recents_df = pd.concat([full_recents, new_recents], ignore_index=True)\n",
    "recents_df.drop_duplicates(keep='last', inplace=True)\n",
    "recents_df.to_csv('recent_tracks.csv', index=False, encoding='utf-8')"
   ]
  },
  {
   "cell_type": "markdown",
   "metadata": {},
   "source": [
    "### Fetch All Liked Songs"
   ]
  },
  {
   "cell_type": "code",
   "execution_count": null,
   "metadata": {},
   "outputs": [],
   "source": [
    "def liked_songs(token):\n",
    "    \n",
    "    url = 'https://api.spotify.com/v1/me/tracks?limit=50'\n",
    "    headers = {'Authorization': f'Bearer {token}'}\n",
    "    \n",
    "    all_likes = []\n",
    "    \n",
    "    while url:\n",
    "        \n",
    "        result = get(url, headers=headers)\n",
    "        json_result = json.loads(result.content)\n",
    "        \n",
    "        for item in json_result[\"items\"]:\n",
    "            \n",
    "            track = item[\"track\"]\n",
    "            info = {\n",
    "                \"track_name\": track[\"name\"],\n",
    "                \"track_id\": track[\"id\"],\n",
    "                \"album_name\": track[\"album\"][\"name\"],\n",
    "                \"album_id\": track[\"album\"][\"id\"],\n",
    "                \"album_release_date\": track[\"album\"][\"release_date\"],\n",
    "                \"popularity\": track[\"popularity\"],\n",
    "                \"artists\": [\n",
    "                    {\"artist_name\": artist[\"name\"], \"artist_id\": artist[\"id\"]}\n",
    "                    for artist in track[\"artists\"]\n",
    "                ],\n",
    "            }\n",
    "            all_likes.append(info)\n",
    "            \n",
    "        url = json_result[\"next\"]\n",
    "    \n",
    "    return all_likes\n",
    "\n",
    "\n",
    "scope = \"user-library-read\"\n",
    "\n",
    "redirect_url = get_authorization_code()\n",
    "auth_code = extract_auth_code(redirect_url)\n",
    "access_token = get_access_token(auth_code)\n",
    "print(f\"✅ Access Token: {access_token}\")\n",
    "\n",
    "liked_songs = liked_songs(access_token)\n",
    "# save_to_csv(liked_songs, filename=\"liked_songs.csv\")"
   ]
  },
  {
   "cell_type": "markdown",
   "metadata": {},
   "source": [
    "### Create Database of Liked Songs per Album"
   ]
  },
  {
   "cell_type": "code",
   "execution_count": 17,
   "metadata": {},
   "outputs": [
    {
     "data": {
      "application/vnd.microsoft.datawrangler.viewer.v0+json": {
       "columns": [
        {
         "name": "index",
         "rawType": "int64",
         "type": "integer"
        },
        {
         "name": "album_name",
         "rawType": "object",
         "type": "string"
        },
        {
         "name": "liked_songs",
         "rawType": "object",
         "type": "string"
        },
        {
         "name": "liked_popularity",
         "rawType": "float64",
         "type": "float"
        }
       ],
       "conversionMethod": "pd.DataFrame",
       "ref": "8de5a08c-f304-48b7-bf56-7f6b545aecc1",
       "rows": [
        [
         "0",
         "Jinx",
         "Ghostride",
         "72.0"
        ],
        [
         "1",
         "MUSIC",
         "OVERLY, HBA, WALK, OPM BABI, OLYMPIAN, COCAINE NOSE, WE NEED ALL DA VIBES (with Young Thug & Ty Dolla $ign), WAKE UP F1LTHY (with Travis Scott), GOOD CREDIT (with Kendrick Lamar), CHARGE DEM HOES A FEE (with Future & Travis Scott), CRANK, RATHER LIE (with The Weeknd), RADAR, MOJO JOJO, EVIL J0RDAN, CRUSH (with Travis Scott)",
         "83.81"
        ],
        [
         "2",
         "AT.LONG.LAST.A$AP",
         "M'$ (feat. Lil Wayne), Better Things, Wavybone (feat. Juicy J & UGK), Pharsyde (feat. Joe Fox), Max B (feat. Joe Fox), Electric Body (feat. ScHoolboy Q), Holy Ghost (feat. Joe Fox), Lord Pretty Flacko Jodye 2 (LPFJ2), Canal St. (feat. Bones), L$D, Excuse Me, Fine Whine (feat. Joe Fox, Future & M.I.A.), Everyday (feat. Rod Stewart, Miguel & Mark Ronson)",
         "63.08"
        ],
        [
         "3",
         "Sensational",
         "1 Thot 2 Thot Red Thot Blue Thot, Whip A Tesla, The Boys Are Back In Town",
         "50.67"
        ],
        [
         "4",
         "Yasuke",
         "Between Memories, The Eyes of Vengeance, Your Head // We Won, Your Armour, Kurosaka Strikes!, African Samurai, Black Gold",
         "33.14"
        ],
        [
         "5",
         "Arbi Ghode",
         "Arbi Ghode",
         "57.0"
        ],
        [
         "6",
         "Mancini Plays the Theme from \"Love Story\"",
         "Theme from \"Love Story\"",
         "34.0"
        ],
        [
         "7",
         "Make Way for Dionne Warwick",
         "Walk on By",
         "67.0"
        ],
        [
         "8",
         "Evr’y Time We Say Goodbye - All-Time Romantic Duets",
         "Georgia on My Mind",
         "56.0"
        ],
        [
         "9",
         "The Genesis of Aretha: 1960-1966",
         "One Step Ahead",
         "47.0"
        ]
       ],
       "shape": {
        "columns": 3,
        "rows": 10
       }
      },
      "text/html": [
       "<div>\n",
       "<style scoped>\n",
       "    .dataframe tbody tr th:only-of-type {\n",
       "        vertical-align: middle;\n",
       "    }\n",
       "\n",
       "    .dataframe tbody tr th {\n",
       "        vertical-align: top;\n",
       "    }\n",
       "\n",
       "    .dataframe thead th {\n",
       "        text-align: right;\n",
       "    }\n",
       "</style>\n",
       "<table border=\"1\" class=\"dataframe\">\n",
       "  <thead>\n",
       "    <tr style=\"text-align: right;\">\n",
       "      <th></th>\n",
       "      <th>album_name</th>\n",
       "      <th>liked_songs</th>\n",
       "      <th>liked_popularity</th>\n",
       "    </tr>\n",
       "  </thead>\n",
       "  <tbody>\n",
       "    <tr>\n",
       "      <th>0</th>\n",
       "      <td>Jinx</td>\n",
       "      <td>Ghostride</td>\n",
       "      <td>72.00</td>\n",
       "    </tr>\n",
       "    <tr>\n",
       "      <th>1</th>\n",
       "      <td>MUSIC</td>\n",
       "      <td>OVERLY, HBA, WALK, OPM BABI, OLYMPIAN, COCAINE...</td>\n",
       "      <td>83.81</td>\n",
       "    </tr>\n",
       "    <tr>\n",
       "      <th>2</th>\n",
       "      <td>AT.LONG.LAST.A$AP</td>\n",
       "      <td>M'$ (feat. Lil Wayne), Better Things, Wavybone...</td>\n",
       "      <td>63.08</td>\n",
       "    </tr>\n",
       "    <tr>\n",
       "      <th>3</th>\n",
       "      <td>Sensational</td>\n",
       "      <td>1 Thot 2 Thot Red Thot Blue Thot, Whip A Tesla...</td>\n",
       "      <td>50.67</td>\n",
       "    </tr>\n",
       "    <tr>\n",
       "      <th>4</th>\n",
       "      <td>Yasuke</td>\n",
       "      <td>Between Memories, The Eyes of Vengeance, Your ...</td>\n",
       "      <td>33.14</td>\n",
       "    </tr>\n",
       "    <tr>\n",
       "      <th>5</th>\n",
       "      <td>Arbi Ghode</td>\n",
       "      <td>Arbi Ghode</td>\n",
       "      <td>57.00</td>\n",
       "    </tr>\n",
       "    <tr>\n",
       "      <th>6</th>\n",
       "      <td>Mancini Plays the Theme from \"Love Story\"</td>\n",
       "      <td>Theme from \"Love Story\"</td>\n",
       "      <td>34.00</td>\n",
       "    </tr>\n",
       "    <tr>\n",
       "      <th>7</th>\n",
       "      <td>Make Way for Dionne Warwick</td>\n",
       "      <td>Walk on By</td>\n",
       "      <td>67.00</td>\n",
       "    </tr>\n",
       "    <tr>\n",
       "      <th>8</th>\n",
       "      <td>Evr’y Time We Say Goodbye - All-Time Romantic ...</td>\n",
       "      <td>Georgia on My Mind</td>\n",
       "      <td>56.00</td>\n",
       "    </tr>\n",
       "    <tr>\n",
       "      <th>9</th>\n",
       "      <td>The Genesis of Aretha: 1960-1966</td>\n",
       "      <td>One Step Ahead</td>\n",
       "      <td>47.00</td>\n",
       "    </tr>\n",
       "  </tbody>\n",
       "</table>\n",
       "</div>"
      ],
      "text/plain": [
       "                                          album_name  \\\n",
       "0                                               Jinx   \n",
       "1                                              MUSIC   \n",
       "2                                  AT.LONG.LAST.A$AP   \n",
       "3                                        Sensational   \n",
       "4                                             Yasuke   \n",
       "5                                         Arbi Ghode   \n",
       "6          Mancini Plays the Theme from \"Love Story\"   \n",
       "7                        Make Way for Dionne Warwick   \n",
       "8  Evr’y Time We Say Goodbye - All-Time Romantic ...   \n",
       "9                   The Genesis of Aretha: 1960-1966   \n",
       "\n",
       "                                         liked_songs  liked_popularity  \n",
       "0                                          Ghostride             72.00  \n",
       "1  OVERLY, HBA, WALK, OPM BABI, OLYMPIAN, COCAINE...             83.81  \n",
       "2  M'$ (feat. Lil Wayne), Better Things, Wavybone...             63.08  \n",
       "3  1 Thot 2 Thot Red Thot Blue Thot, Whip A Tesla...             50.67  \n",
       "4  Between Memories, The Eyes of Vengeance, Your ...             33.14  \n",
       "5                                         Arbi Ghode             57.00  \n",
       "6                            Theme from \"Love Story\"             34.00  \n",
       "7                                         Walk on By             67.00  \n",
       "8                                 Georgia on My Mind             56.00  \n",
       "9                                     One Step Ahead             47.00  "
      ]
     },
     "execution_count": 17,
     "metadata": {},
     "output_type": "execute_result"
    }
   ],
   "source": [
    "df = pd.read_csv('liked_songs.csv')\n",
    "album_wise_liked = []\n",
    "\n",
    "for album in df['album_name'].unique():\n",
    "    liked_album_data = df.loc[df['album_name']==album]\n",
    "    \n",
    "    liked_popularity = liked_album_data['popularity'].mean()\n",
    "    album_liked = \"\"\n",
    "    \n",
    "    for song in liked_album_data['track_name']:\n",
    "        album_liked += song + ', '\n",
    "        \n",
    "    entry = {\n",
    "        \"album_name\": album,\n",
    "        \"liked_songs\": album_liked.rstrip(', '),\n",
    "        \"liked_popularity\": round(liked_popularity, 2)\n",
    "    }\n",
    "    album_wise_liked.append(entry)\n",
    "    \n",
    "album_wise_liked = pd.DataFrame(album_wise_liked)\n",
    "album_wise_liked.to_csv('album_wise_liked.csv')\n",
    "album_wise_liked.head(10)"
   ]
  },
  {
   "cell_type": "code",
   "execution_count": null,
   "metadata": {},
   "outputs": [],
   "source": []
  }
 ],
 "metadata": {
  "kernelspec": {
   "display_name": ".venv",
   "language": "python",
   "name": "python3"
  },
  "language_info": {
   "codemirror_mode": {
    "name": "ipython",
    "version": 3
   },
   "file_extension": ".py",
   "mimetype": "text/x-python",
   "name": "python",
   "nbconvert_exporter": "python",
   "pygments_lexer": "ipython3",
   "version": "3.12.2"
  }
 },
 "nbformat": 4,
 "nbformat_minor": 2
}
